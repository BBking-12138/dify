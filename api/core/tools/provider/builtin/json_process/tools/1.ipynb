{
 "cells": [
  {
   "cell_type": "code",
   "execution_count": 24,
   "metadata": {},
   "outputs": [
    {
     "data": {
      "text/plain": [
       "['Product 1', 'Product 2']"
      ]
     },
     "execution_count": 24,
     "metadata": {},
     "output_type": "execute_result"
    }
   ],
   "source": [
    "import json\n",
    "from jsonpath_ng import parse,  Fields\n",
    "\n",
    "def convert(origin_json, query):\n",
    "    try:\n",
    "        input_data = json.loads(origin_json)\n",
    "        expr = parse(query)\n",
    "        result = [match.value for match in expr.find(input_data)]\n",
    "        if len(result) == 1:\n",
    "            return result[0]\n",
    "        return result\n",
    "    except Exception as e:\n",
    "        return e\n",
    "\n",
    "originJson = \"{\\\"data\\\": {\\\"items\\\": [{\\\"id\\\": 1, \\\"name\\\": \\\"Product 1\\\"}, {\\\"id\\\": 2, \\\"name\\\": \\\"Product 2\\\"}]}}\"\n",
    "query = \"$.data.items[:].name\"\n",
    "\n",
    "convert(originJson, query)"
   ]
  },
  {
   "cell_type": "code",
   "execution_count": 34,
   "metadata": {},
   "outputs": [
    {
     "name": "stdout",
     "output_type": "stream",
     "text": [
      "{\"data\": {\"items\": [{\"id\": 1, \"name\": \"Product 1\"}, {\"id\": 2, \"name\": \"Product 2\"}]}}\n",
      "{\"data\": {\"items\": [{\"id\": 1, \"name\": \"Product xxxxxx\"}, {\"id\": 2, \"name\": \"Product 2\"}]}}\n"
     ]
    }
   ],
   "source": [
    "def replace(origin_json, query, replace_pattern, replace_value):\n",
    "    try:\n",
    "        input_data = json.loads(origin_json)\n",
    "        expr = parse(query)\n",
    "        \n",
    "        # 查找匹配项\n",
    "        matches = expr.find(input_data)\n",
    "        \n",
    "        # 对每个匹配项进行替换\n",
    "        for match in matches:\n",
    "            new_value = match.value.replace(replace_pattern, replace_value)\n",
    "            match.full_path.update(input_data, new_value)\n",
    "        \n",
    "        # 返回修改后的 JSON 字符串\n",
    "        return json.dumps(input_data)\n",
    "    except Exception as e:\n",
    "        return str(e)\n",
    "\n",
    "# 示例用法\n",
    "originJson = \"{\\\"data\\\": {\\\"items\\\": [{\\\"id\\\": 1, \\\"name\\\": \\\"Product 1\\\"}, {\\\"id\\\": 2, \\\"name\\\": \\\"Product 2\\\"}]}}\"\n",
    "print(originJson)\n",
    "query = \"$.data.items[:].name\"\n",
    "\n",
    "# 执行替换操作\n",
    "result = replace(originJson, query, \"1\", 'xxxxxx')\n",
    "print(result)"
   ]
  },
  {
   "cell_type": "code",
   "execution_count": null,
   "metadata": {},
   "outputs": [],
   "source": []
  },
  {
   "cell_type": "code",
   "execution_count": 30,
   "metadata": {},
   "outputs": [
    {
     "name": "stdout",
     "output_type": "stream",
     "text": [
      "原始JSON: {\"data\": {\"items\": [{\"id\": 1, \"name\": \"Product 1\"}, {\"id\": 2, \"name\": \"Product 2\"}]}}\n",
      "替换后的JSON: {\"data\": {\"items\": [{\"id\": 1, \"name\": \"x\"}, {\"id\": 2, \"name\": \"x\"}]}}\n"
     ]
    }
   ],
   "source": [
    "import json\n",
    "from jsonpath_ng import parse\n",
    "\n",
    "def replace(origin_json, query, replace_value):\n",
    "    try:\n",
    "        input_data = json.loads(origin_json)\n",
    "        expr = parse(query)\n",
    "        \n",
    "        # 查找匹配项\n",
    "        matches = expr.find(input_data)\n",
    "        \n",
    "        # 对每个匹配项进行替换\n",
    "        for match in matches:\n",
    "            match.full_path.update(input_data, replace_value)\n",
    "        \n",
    "        # 返回修改后的 JSON 字符串\n",
    "        return json.dumps(input_data)\n",
    "    except Exception as e:\n",
    "        return str(e)\n",
    "\n",
    "# 示例用法\n",
    "originJson = \"{\\\"data\\\": {\\\"items\\\": [{\\\"id\\\": 1, \\\"name\\\": \\\"Product 1\\\"}, {\\\"id\\\": 2, \\\"name\\\": \\\"Product 2\\\"}]}}\"\n",
    "print(\"原始JSON:\", originJson)\n",
    "\n",
    "query = \"$.data.items[:].name\"\n",
    "\n",
    "# 执行替换操作\n",
    "result = replace(originJson, query, \"x\")\n",
    "print(\"替换后的JSON:\", result)"
   ]
  },
  {
   "cell_type": "code",
   "execution_count": 50,
   "metadata": {},
   "outputs": [
    {
     "name": "stdout",
     "output_type": "stream",
     "text": [
      "原始JSON:     {\"data\": {\"items\": [{\"id\": 1, \"name\": \"Product 1\"}, {\"id\": 2, \"name\": \"Product 2\"}]}}\n",
      "替换后的JSON: {\"data\": {\"items\": [{\"id\": 1, \"name\": \"Product 1\"}, {\"id\": 2, \"name\": \"Product 2\"}]}}\n"
     ]
    }
   ],
   "source": [
    "import json\n",
    "from jsonpath_ng import parse\n",
    "\n",
    "def replace_key(origin_json, query, new_key):\n",
    "    try:\n",
    "        input_data = json.loads(origin_json)\n",
    "        expr = parse(query)\n",
    "        \n",
    "        # 查找匹配项\n",
    "        matches = expr.find(input_data)\n",
    "        \n",
    "        # 对每个匹配项进行键名替换\n",
    "        for match in matches:\n",
    "            parent = match.context.value\n",
    "            if isinstance(parent, dict):\n",
    "                value = parent.pop('name', None)\n",
    "                if value is not None:\n",
    "                    parent[new_key] = value\n",
    "        \n",
    "        # 返回修改后的 JSON 字符串\n",
    "        return json.dumps(input_data)\n",
    "    except Exception as e:\n",
    "        return str(e)\n",
    "\n",
    "# 示例用法\n",
    "originJson = \"{\\\"data\\\": {\\\"items\\\": [{\\\"id\\\": 1, \\\"name\\\": \\\"Product 1\\\"}, {\\\"id\\\": 2, \\\"name\\\": \\\"Product 2\\\"}]}}\"\n",
    "print(\"原始JSON:    \", originJson)\n",
    "\n",
    "query = \"$.data.items\"\n",
    "\n",
    "# 执行替换操作\n",
    "result = replace_key(originJson, query, \"x\")\n",
    "print(\"替换后的JSON:\", result)"
   ]
  },
  {
   "cell_type": "code",
   "execution_count": 58,
   "metadata": {},
   "outputs": [
    {
     "name": "stdout",
     "output_type": "stream",
     "text": [
      "原始JSON: {\"data\": {\"items\": [{\"id\": 1, \"name\": \"Product 1\"}, {\"id\": 2, \"name\": \"Product 2\"}]}}\n",
      "查询: $.data.items[*].name\n",
      "新键名: x\n",
      "替换后的JSON: {\"data\": {\"items\": [{\"id\": 1, \"x\": \"Product 1\"}, {\"id\": 2, \"x\": \"Product 2\"}]}}\n",
      "\n",
      "原始JSON: {\"data\": {\"items\": [{\"id\": 1, \"name\": \"Product 1\"}, {\"id\": 2, \"name\": \"Product 2\"}]}}\n",
      "查询: $.data.items\n",
      "新键名: xxx\n",
      "替换后的JSON: {\"data\": {\"xxx\": [{\"id\": 1, \"name\": \"Product 1\"}, {\"id\": 2, \"name\": \"Product 2\"}]}}\n",
      "\n",
      "原始JSON: {\"data\": {\"items\": [{\"id\": 1, \"name\": \"Product 1\"}, {\"id\": 2, \"name\": \"Product 2\"}]}}\n",
      "查询: $.data.items[0].name\n",
      "新键名: xx\n",
      "替换后的JSON: {\"data\": {\"items\": [{\"id\": 1, \"xx\": \"Product 1\"}, {\"id\": 2, \"name\": \"Product 2\"}]}}\n",
      "\n",
      "原始JSON: {\"data\": {\"items\": [{\"id\": 1, \"name\": \"Product 1\"}, {\"id\": 2, \"name\": \"Product 2\"}]}}\n",
      "查询: $.data\n",
      "新键名: xxxxx\n",
      "替换后的JSON: {\"xxxxx\": {\"items\": [{\"id\": 1, \"name\": \"Product 1\"}, {\"id\": 2, \"name\": \"Product 2\"}]}}\n",
      "\n"
     ]
    }
   ],
   "source": [
    "import json\n",
    "from jsonpath_ng import parse\n",
    "\n",
    "def replace_key(origin_json, query, new_key):\n",
    "    try:\n",
    "        input_data = json.loads(origin_json)\n",
    "        expr = parse(query)\n",
    "        \n",
    "        # 查找匹配项\n",
    "        matches = expr.find(input_data)\n",
    "        \n",
    "        # 对每个匹配项进行键名替换\n",
    "        for match in matches:\n",
    "            parent = match.context.value\n",
    "            if isinstance(parent, dict):\n",
    "                old_key = match.path.fields[0]\n",
    "                if old_key in parent:\n",
    "                    value = parent.pop(old_key)\n",
    "                    parent[new_key] = value\n",
    "            elif isinstance(parent, list):\n",
    "                for item in parent:\n",
    "                    if isinstance(item, dict) and old_key in item:\n",
    "                        value = item.pop(old_key)\n",
    "                        item[new_key] = value\n",
    "        \n",
    "        # 返回修改后的 JSON 字符串\n",
    "        return json.dumps(input_data)\n",
    "    except Exception as e:\n",
    "        return str(e)\n",
    "\n",
    "# 测试函数\n",
    "def test_replace_key(origin_json, query, new_key):\n",
    "    print(f\"原始JSON: {origin_json}\")\n",
    "    print(f\"查询: {query}\")\n",
    "    print(f\"新键名: {new_key}\")\n",
    "    result = replace_key(origin_json, query, new_key)\n",
    "    print(f\"替换后的JSON: {result}\\n\")\n",
    "\n",
    "# 示例用法\n",
    "json_data = \"{\\\"data\\\": {\\\"items\\\": [{\\\"id\\\": 1, \\\"name\\\": \\\"Product 1\\\"}, {\\\"id\\\": 2, \\\"name\\\": \\\"Product 2\\\"}]}}\"\n",
    "\n",
    "# 测试用例\n",
    "test_replace_key(json_data, \"$.data.items[*].name\", \"x\")  # 替换所有 items 中的 name\n",
    "test_replace_key(json_data, \"$.data.items\", \"xxx\")  # 替换 items 键\n",
    "test_replace_key(json_data, \"$.data.items[0].name\", \"xx\")  # 只替换第一个 item 的 name\n",
    "test_replace_key(json_data, \"$.data\", \"xxxxx\")  # 只替换第一个 item 的 name"
   ]
  },
  {
   "cell_type": "code",
   "execution_count": null,
   "metadata": {},
   "outputs": [],
   "source": []
  },
  {
   "cell_type": "code",
   "execution_count": null,
   "metadata": {},
   "outputs": [],
   "source": []
  },
  {
   "cell_type": "code",
   "execution_count": null,
   "metadata": {},
   "outputs": [],
   "source": []
  },
  {
   "cell_type": "code",
   "execution_count": 12,
   "metadata": {},
   "outputs": [
    {
     "name": "stdout",
     "output_type": "stream",
     "text": [
      "{\"data\": {\"items\": [{\"id\": 1, \"name\": \"Product 1\"}, {\"id\": 2, \"name\": \"Product 2\"}]}}\n",
      "{\"data\": {\"items\": [{\"id\": 1, \"name\": \"Product 1\"}, {\"id\": 2, \"name\": \"Product 2\"}, {\"id\": 3, \"name\": \"Product 3\"}]}}\n"
     ]
    }
   ],
   "source": [
    "def insert(origin_json_str, pattern, query_str):\n",
    "    origin_json = json.loads(origin_json_str)\n",
    "    query = json.loads(query_str)\n",
    "\n",
    "    try:\n",
    "        parser = parse(pattern)\n",
    "        matches = parser.find(origin_json)\n",
    "        if matches:\n",
    "            matches[0].value.append(query)\n",
    "        else:\n",
    "            parts = pattern.split(\".\")\n",
    "            if parts[0] == \"$\":\n",
    "                parts = parts[1:]\n",
    "            current = origin_json\n",
    "            for part in parts[:-1]:\n",
    "                if part not in current:\n",
    "                    current[part] = {}\n",
    "                current = current[part]\n",
    "            current[parts[-1]] = [query]\n",
    "        return json.dumps(origin_json)\n",
    "    except Exception as e:\n",
    "        return str(e)\n",
    "\n",
    "data_str = '{\"data\": {\"items\": [{\"id\": 1, \"name\": \"Product 1\"}, {\"id\": 2, \"name\": \"Product 2\"}]}}'\n",
    "print(data_str)\n",
    "\n",
    "query_str = '{\"id\": 3, \"name\": \"Product 3\"}'\n",
    "print(insert(data_str, \"$.data.items\", query_str))"
   ]
  },
  {
   "cell_type": "code",
   "execution_count": null,
   "metadata": {},
   "outputs": [],
   "source": []
  },
  {
   "cell_type": "code",
   "execution_count": 7,
   "metadata": {},
   "outputs": [
    {
     "data": {
      "text/plain": [
       "'https://lilithgames.feishu.cn/wiki/JvsDwD69SixMsBkVQQJcYHRQnse'"
      ]
     },
     "execution_count": 7,
     "metadata": {},
     "output_type": "execute_result"
    }
   ],
   "source": [
    "originJson = \"{\\\"url\\\": \\\"https://lilithgames.feishu.cn/wiki/JvsDwD69SixMsBkVQQJcYHRQnse\\\"}\\n\"\n",
    "query = \"url\"\n",
    "\n",
    "convert(originJson, query)"
   ]
  },
  {
   "cell_type": "code",
   "execution_count": 3,
   "metadata": {},
   "outputs": [
    {
     "data": {
      "text/plain": [
       "['Product 1', 'Product 2']"
      ]
     },
     "execution_count": 3,
     "metadata": {},
     "output_type": "execute_result"
    }
   ],
   "source": [
    "originJson = \"{\\\"data\\\": {\\\"items\\\": [{\\\"id\\\": 1, \\\"name\\\": \\\"Product 1\\\"}, {\\\"id\\\": 2, \\\"name\\\": \\\"Product 2\\\"}]}}\"\n",
    "query = \"data.items[:].name\"\n",
    "\n",
    "convert(originJson, query)"
   ]
  },
  {
   "cell_type": "code",
   "execution_count": 5,
   "metadata": {},
   "outputs": [
    {
     "data": {
      "text/plain": [
       "['Product 1', 'Product 2']"
      ]
     },
     "execution_count": 5,
     "metadata": {},
     "output_type": "execute_result"
    }
   ],
   "source": [
    "originJson = \"{\\\"data\\\": {\\\"items\\\": [{\\\"id\\\": 1, \\\"name\\\": \\\"Product 1\\\"}, {\\\"id\\\": 2, \\\"name\\\": \\\"Product 2\\\"}]}}\"\n",
    "query = \"$.data.items[:].name\"\n",
    "\n",
    "convert(originJson, query)"
   ]
  },
  {
   "cell_type": "code",
   "execution_count": 6,
   "metadata": {},
   "outputs": [
    {
     "data": {
      "text/plain": [
       "{'items': [{'id': 1, 'name': 'Product 1'}, {'id': 2, 'name': 'Product 2'}]}"
      ]
     },
     "execution_count": 6,
     "metadata": {},
     "output_type": "execute_result"
    }
   ],
   "source": [
    "originJson = \"{\\\"data\\\": {\\\"items\\\": [{\\\"id\\\": 1, \\\"name\\\": \\\"Product 1\\\"}, {\\\"id\\\": 2, \\\"name\\\": \\\"Product 2\\\"}]}}\"\n",
    "query = \"$.data\"\n",
    "\n",
    "convert(originJson, query)"
   ]
  },
  {
   "cell_type": "code",
   "execution_count": 11,
   "metadata": {},
   "outputs": [
    {
     "data": {
      "text/plain": [
       "{'items': [{'id': 1, 'name': 'Product 1'}, {'id': 2, 'name': 'Product 2'}]}"
      ]
     },
     "execution_count": 11,
     "metadata": {},
     "output_type": "execute_result"
    }
   ],
   "source": [
    "originJson = \"{\\\"data\\\": {\\\"items\\\": [{\\\"id\\\": 1, \\\"name\\\": \\\"Product 1\\\"}, {\\\"id\\\": 2, \\\"name\\\": \\\"Product 2\\\"}]}}\"\n",
    "query = \"$.data\"\n",
    "\n",
    "convert(originJson, query)"
   ]
  },
  {
   "cell_type": "code",
   "execution_count": 15,
   "metadata": {},
   "outputs": [
    {
     "data": {
      "text/plain": [
       "'Product 1'"
      ]
     },
     "execution_count": 15,
     "metadata": {},
     "output_type": "execute_result"
    }
   ],
   "source": [
    "originJson = \"{\\\"data\\\": {\\\"items\\\": [{\\\"id\\\": 1, \\\"name\\\": \\\"Product 1\\\"}, {\\\"id\\\": 2, \\\"name\\\": \\\"Product 2\\\"}]}}\"\n",
    "query = \"data.items[0].name\"\n",
    "\n",
    "convert(originJson, query)"
   ]
  },
  {
   "cell_type": "code",
   "execution_count": null,
   "metadata": {},
   "outputs": [],
   "source": [
    "{\"data\": {\"items\": [{\"id\": 1, \"name\": \"Product 1\"}, {\"id\": 2, \"name\": \"Product 2\"}]}}"
   ]
  },
  {
   "cell_type": "code",
   "execution_count": null,
   "metadata": {},
   "outputs": [],
   "source": [
    "{\"url\": \"https://lilithgames.feishu.cn/wiki/GDjWwnyN0ieJJskLRSxcBglLnxb\"}"
   ]
  },
  {
   "cell_type": "code",
   "execution_count": null,
   "metadata": {},
   "outputs": [],
   "source": []
  },
  {
   "cell_type": "code",
   "execution_count": 5,
   "metadata": {},
   "outputs": [
    {
     "name": "stdout",
     "output_type": "stream",
     "text": [
      "{\"data\": {\"items\": [{\"id\": 1, \"name\": \"Product 1\"}, {\"id\": 2, \"name\": \"Product 2\"}]}}\n",
      "{\"data\": {\"items\": [{\"id\": 1, \"name\": \"Product 1\"}, {\"id\": 2, \"name\": \"Product 2\"}, {\"id\": 3, \"name\": \"Product 3\"}]}}\n"
     ]
    }
   ],
   "source": [
    "from jsonpath_ng import parse\n",
    "import json\n",
    "\n",
    "def insert(origin_json_str, pattern, query_str):\n",
    "    origin_json = json.loads(origin_json_str)\n",
    "    query = json.loads(query_str)\n",
    "\n",
    "    try:\n",
    "        parser = parse(pattern)\n",
    "        matches = parser.find(origin_json)\n",
    "        if matches:\n",
    "            matches[0].value.append(query)\n",
    "        else:\n",
    "            parts = pattern.split(\".\")\n",
    "            if parts[0] == \"$\":\n",
    "                parts = parts[1:]\n",
    "            current = origin_json\n",
    "            for part in parts[:-1]:\n",
    "                if part not in current:\n",
    "                    current[part] = {}\n",
    "                current = current[part]\n",
    "            current[parts[-1]] = [query]\n",
    "        return json.dumps(origin_json)\n",
    "    except Exception as e:\n",
    "        return str(e)\n",
    "\n",
    "data_str = '{\"data\": {\"items\": [{\"id\": 1, \"name\": \"Product 1\"}, {\"id\": 2, \"name\": \"Product 2\"}]}}'\n",
    "print(data_str)\n",
    "\n",
    "query_str = '{\"id\": 3, \"name\": \"Product 3\"}'\n",
    "print(insert(data_str, \"$.data.items\", query_str))"
   ]
  },
  {
   "cell_type": "code",
   "execution_count": null,
   "metadata": {},
   "outputs": [],
   "source": []
  },
  {
   "cell_type": "code",
   "execution_count": null,
   "metadata": {},
   "outputs": [],
   "source": []
  },
  {
   "cell_type": "code",
   "execution_count": 28,
   "metadata": {},
   "outputs": [
    {
     "name": "stdout",
     "output_type": "stream",
     "text": [
      "原始JSON: {\"data\": {\"items\": [{\"id\": 1, \"name\": \"Product 1\"}, {\"id\": 2, \"name\": \"Product 2\"}]}}\n",
      "插入后的JSON: {\"data\": {\"items\": [{\"id\": 1, \"name\": \"Product 1\"}, {\"id\": 2, \"name\": \"Product 2\"}], \"category\": \"Electronics\"}}\n"
     ]
    }
   ],
   "source": [
    "import json\n",
    "from jsonpath_ng import parse\n",
    "\n",
    "def insert(origin_json, query, new_key, new_value):\n",
    "    try:\n",
    "        input_data = json.loads(origin_json)\n",
    "        expr = parse(query)\n",
    "        \n",
    "        # 查找匹配项\n",
    "        matches = expr.find(input_data)\n",
    "        \n",
    "        # 对每个匹配项进行插入操作\n",
    "        for match in matches:\n",
    "            if isinstance(match.value, dict):\n",
    "                match.value[new_key] = new_value\n",
    "            else:\n",
    "                # 如果匹配项不是字典，我们需要更新其父对象\n",
    "                parent = match.context.value\n",
    "                if isinstance(parent, dict):\n",
    "                    parent[new_key] = new_value\n",
    "        \n",
    "        # 返回修改后的 JSON 字符串\n",
    "        return json.dumps(input_data)\n",
    "    except Exception as e:\n",
    "        return str(e)\n",
    "\n",
    "# 示例用法\n",
    "originJson = \"{\\\"data\\\": {\\\"items\\\": [{\\\"id\\\": 1, \\\"name\\\": \\\"Product 1\\\"}, {\\\"id\\\": 2, \\\"name\\\": \\\"Product 2\\\"}]}}\"\n",
    "print(\"原始JSON:\", originJson)\n",
    "query = \"$.data.items\"\n",
    "\n",
    "# 执行插入操作\n",
    "result = insert(originJson, query, \"category\", \"Electronics\")\n",
    "print(\"插入后的JSON:\", result)"
   ]
  },
  {
   "cell_type": "code",
   "execution_count": null,
   "metadata": {},
   "outputs": [],
   "source": []
  },
  {
   "cell_type": "code",
   "execution_count": 20,
   "metadata": {},
   "outputs": [
    {
     "name": "stdout",
     "output_type": "stream",
     "text": [
      "原始JSON: {\"data\": {\"items\": [{\"id\": 1, \"name\": \"Product 1\"}, {\"id\": 2, \"name\": \"Product 2\"}]}}\n",
      "在末尾插入后的JSON: {\"data\": {\"items\": [{\"id\": 1, \"name\": \"Product 1\"}, {\"id\": 2, \"name\": \"Product 2\"}, {\"id\": 3, \"name\": \"Product 3\"}]}}\n",
      "在开头插入后的JSON: {\"data\": {\"items\": [{\"id\": 0, \"name\": \"Product 0\"}, {\"id\": 1, \"name\": \"Product 1\"}, {\"id\": 2, \"name\": \"Product 2\"}]}}\n"
     ]
    }
   ],
   "source": [
    "import json\n",
    "from jsonpath_ng import parse\n",
    "\n",
    "def insert(origin_json, query, new_value, index=None):\n",
    "    try:\n",
    "        input_data = json.loads(origin_json)\n",
    "        expr = parse(query)\n",
    "        \n",
    "        # 查找匹配项\n",
    "        matches = expr.find(input_data)\n",
    "        \n",
    "        # 对每个匹配项进行插入操作\n",
    "        for match in matches:\n",
    "            if isinstance(match.value, list):\n",
    "                if index is None:\n",
    "                    match.value.append(new_value)\n",
    "                else:\n",
    "                    match.value.insert(index, new_value)\n",
    "            else:\n",
    "                raise ValueError(\"The target is not an array\")\n",
    "        \n",
    "        # 返回修改后的 JSON 字符串\n",
    "        return json.dumps(input_data)\n",
    "    except Exception as e:\n",
    "        return str(e)\n",
    "\n",
    "# 示例用法\n",
    "originJson = \"{\\\"data\\\": {\\\"items\\\": [{\\\"id\\\": 1, \\\"name\\\": \\\"Product 1\\\"}, {\\\"id\\\": 2, \\\"name\\\": \\\"Product 2\\\"}]}}\"\n",
    "print(\"原始JSON:\", originJson)\n",
    "\n",
    "# 在数组末尾插入\n",
    "query = \"$.data.items\"\n",
    "result = insert(originJson, query, {\"id\": 3, \"name\": \"Product 3\"})\n",
    "print(\"在末尾插入后的JSON:\", result)\n",
    "\n",
    "# 在指定位置插入\n",
    "query = \"$.data.items\"\n",
    "result = insert(originJson, query, {\"id\": 0, \"name\": \"Product 0\"}, index=0)\n",
    "print(\"在开头插入后的JSON:\", result)"
   ]
  },
  {
   "cell_type": "code",
   "execution_count": null,
   "metadata": {},
   "outputs": [],
   "source": []
  },
  {
   "cell_type": "code",
   "execution_count": 41,
   "metadata": {},
   "outputs": [
    {
     "name": "stdout",
     "output_type": "stream",
     "text": [
      "原始JSON: {\"data\": {\"items\": [{\"id\": 1, \"name\": \"Product 1\"}, {\"id\": 2, \"name\": \"Product 2\"}]}}\n",
      "向对象插入后的JSON: {\"data\": {\"items\": [{\"id\": 1, \"name\": {\"category\": \"Electronics\"}}, {\"id\": 2, \"name\": \"Product 2\"}]}}\n",
      "向数组插入后的JSON: {\"data\": {\"items\": [{\"id\": 1, \"name\": \"Product 1\"}, {\"id\": 2, \"name\": \"Product 2\"}, {\"id\": 3, \"name\": \"Product 3\"}]}}\n",
      "创建新路径并插入后的JSON: {\"data\": {\"items\": [{\"id\": 1, \"name\": \"Product 1\"}, {\"id\": 2, \"name\": \"Product 2\"}], \"metadata\": {\"author\": \"John Doe\"}}}\n",
      "创建新路径并插入后的JSON: {\"data\": {\"items\": [{\"id\": 1, \"name\": \"Product 1\"}, {\"id\": 2, \"name\": \"Product 2\"}], \"items[0]\": {\"metadata\": {\"author\": \"John Doe\"}}}}\n"
     ]
    }
   ],
   "source": [
    "import json\n",
    "from jsonpath_ng import parse, jsonpath\n",
    "\n",
    "def insert(origin_json, query, new_value, index=None, create_path=False):\n",
    "    try:\n",
    "        input_data = json.loads(origin_json)\n",
    "        expr = parse(query)\n",
    "        try:\n",
    "            new_value = json.loads(new_value)\n",
    "        except json.JSONDecodeError:\n",
    "            new_value = new_value\n",
    "        \n",
    "        matches = expr.find(input_data)\n",
    "        \n",
    "        if not matches and create_path:\n",
    "            # 创建新路径\n",
    "            path_parts = query.strip('$').strip('.').split('.')\n",
    "            current = input_data\n",
    "            for part in path_parts[:-1]:\n",
    "                if part not in current:\n",
    "                    current[part] = {}\n",
    "                current = current[part]\n",
    "            current[path_parts[-1]] = new_value\n",
    "        else:\n",
    "            for match in matches:\n",
    "                if isinstance(match.value, dict):\n",
    "                    # 向对象插入键值对\n",
    "                    if isinstance(new_value, dict):\n",
    "                        match.value.update(new_value)\n",
    "                    else:\n",
    "                        raise ValueError(\"Cannot insert non-dict value into dict\")\n",
    "                elif isinstance(match.value, list):\n",
    "                    # 向数组插入元素\n",
    "                    if index is None:\n",
    "                        match.value.append(new_value)\n",
    "                    else:\n",
    "                        match.value.insert(index, new_value)\n",
    "                else:\n",
    "                    # 替换原有值\n",
    "                    match.full_path.update(input_data, new_value)\n",
    "        \n",
    "        return json.dumps(input_data)\n",
    "    except Exception as e:\n",
    "        return str(e)\n",
    "\n",
    "# 示例用法\n",
    "originJson = \"{\\\"data\\\": {\\\"items\\\": [{\\\"id\\\": 1, \\\"name\\\": \\\"Product 1\\\"}, {\\\"id\\\": 2, \\\"name\\\": \\\"Product 2\\\"}]}}\"\n",
    "print(\"原始JSON:\", originJson)\n",
    "\n",
    "# 向对象插入\n",
    "result = insert(originJson, \"$.data.items[0].name\", '{\\\"category\\\": \\\"Electronics\\\"}')\n",
    "print(\"向对象插入后的JSON:\", result)\n",
    "\n",
    "# 向数组插入\n",
    "result = insert(originJson, \"data.items\", '{\\\"id\\\": 3, \\\"name\\\": \\\"Product 3\\\"}')\n",
    "print(\"向数组插入后的JSON:\", result)\n",
    "\n",
    "# 创建新路径并插入\n",
    "result = insert(originJson, \"data.metadata.author\", \"John Doe\", create_path=True)\n",
    "print(\"创建新路径并插入后的JSON:\", result)\n",
    "\n",
    "# 创建新路径并插入\n",
    "result = insert(originJson, \"data.items[0].metadata.author\", \"John Doe\", create_path=True)\n",
    "print(\"创建新路径并插入后的JSON:\", result)"
   ]
  },
  {
   "cell_type": "code",
   "execution_count": null,
   "metadata": {},
   "outputs": [],
   "source": []
  },
  {
   "cell_type": "code",
   "execution_count": 65,
   "metadata": {},
   "outputs": [
    {
     "name": "stdout",
     "output_type": "stream",
     "text": [
      "原始JSON: {\"data\": {\"items\": [{\"id\": 1, \"name\": \"Product 1\"}, {\"id\": 2, \"name\": \"Product 2\"}]}}\n",
      "向对象插入后的JSON: {\"data\": {\"items\": [{\"id\": 1, \"name\": {\"category\": \"Electronics\"}}, {\"id\": 2, \"name\": \"Product 2\"}]}}\n",
      "向数组插入后的JSON: {\"data\": {\"items\": [{\"id\": 3, \"name\": \"Product 3\"}, {\"id\": 1, \"name\": \"Product 1\"}, {\"id\": 2, \"name\": \"Product 2\"}]}}\n",
      "创建新路径并插入后的JSON: {\"data\": {\"items\": [{\"id\": 1, \"name\": \"Product 1\"}, {\"id\": 2, \"name\": \"Product 2\"}], \"metadata\": {\"author\": \"John Doe\"}}}\n",
      "创建新路径并插入后的JSON: {\"data\": {\"items\": [{\"id\": 1, \"name\": \"Product 1\", \"a_metadata\": {\"author\": \"John Doe\"}}, {\"id\": 2, \"name\": \"Product 2\"}]}}\n"
     ]
    }
   ],
   "source": [
    "import json\n",
    "from jsonpath_ng import parse, jsonpath\n",
    "\n",
    "def insert(origin_json, query, new_value, index=None, create_path=False):\n",
    "    try:\n",
    "        input_data = json.loads(origin_json)\n",
    "        expr = parse(query)\n",
    "        try:\n",
    "            new_value = json.loads(new_value)\n",
    "        except json.JSONDecodeError:\n",
    "            new_value = new_value\n",
    "        \n",
    "        matches = expr.find(input_data)\n",
    "        \n",
    "        if not matches and create_path:\n",
    "            # 创建新路径\n",
    "            path_parts = query.strip('$').strip('.').split('.')\n",
    "            current = input_data\n",
    "            for i, part in enumerate(path_parts):\n",
    "                if '[' in part and ']' in part:\n",
    "                    # 处理数组索引\n",
    "                    array_name, index = part.split('[')\n",
    "                    index = int(index.rstrip(']'))\n",
    "                    if array_name not in current:\n",
    "                        current[array_name] = []\n",
    "                    while len(current[array_name]) <= index:\n",
    "                        current[array_name].append({})\n",
    "                    current = current[array_name][index]\n",
    "                else:\n",
    "                    if i == len(path_parts) - 1:\n",
    "                        current[part] = new_value\n",
    "                    elif part not in current:\n",
    "                        current[part] = {}\n",
    "                    current = current[part]\n",
    "        else:\n",
    "            for match in matches:\n",
    "                if isinstance(match.value, dict):\n",
    "                    # 向对象插入键值对\n",
    "                    if isinstance(new_value, dict):\n",
    "                        match.value.update(new_value)\n",
    "                    else:\n",
    "                        raise ValueError(\"Cannot insert non-dict value into dict\")\n",
    "                elif isinstance(match.value, list):\n",
    "                    # 向数组插入元素\n",
    "                    if index is None:\n",
    "                        match.value.append(new_value)\n",
    "                    else:\n",
    "                        match.value.insert(int(index), new_value)\n",
    "                else:\n",
    "                    # 替换原有值\n",
    "                    match.full_path.update(input_data, new_value)\n",
    "        \n",
    "        return json.dumps(input_data)\n",
    "    except Exception as e:\n",
    "        return str(e)\n",
    "\n",
    "# 示例用法\n",
    "originJson = \"{\\\"data\\\": {\\\"items\\\": [{\\\"id\\\": 1, \\\"name\\\": \\\"Product 1\\\"}, {\\\"id\\\": 2, \\\"name\\\": \\\"Product 2\\\"}]}}\"\n",
    "print(\"原始JSON:\", originJson)\n",
    "\n",
    "# 向对象插入\n",
    "result = insert(originJson, \"$.data.items[0].name\", '{\\\"category\\\": \\\"Electronics\\\"}')\n",
    "print(\"向对象插入后的JSON:\", result)\n",
    "\n",
    "# 向数组插入\n",
    "result = insert(originJson, \"data.items\", '{\\\"id\\\": 3, \\\"name\\\": \\\"Product 3\\\"}', '0')\n",
    "print(\"向数组插入后的JSON:\", result)\n",
    "\n",
    "# 创建新路径并插入\n",
    "result = insert(originJson, \"data.metadata.author\", \"John Doe\", create_path=True)\n",
    "print(\"创建新路径并插入后的JSON:\", result)\n",
    "\n",
    "# 创建新路径并插入\n",
    "result = insert(originJson, \"data.items[0].a_metadata.author\", \"John Doe\", create_path=True)\n",
    "print(\"创建新路径并插入后的JSON:\", result)"
   ]
  },
  {
   "cell_type": "code",
   "execution_count": null,
   "metadata": {},
   "outputs": [],
   "source": []
  },
  {
   "cell_type": "code",
   "execution_count": null,
   "metadata": {},
   "outputs": [],
   "source": [
    "{\"data\": {\"items\": [{\"id\": 1, \"name\": \"Product 1\"}, {\"id\": 2, \"name\": \"Product 2\"}]}}"
   ]
  }
 ],
 "metadata": {
  "kernelspec": {
   "display_name": "dify",
   "language": "python",
   "name": "python3"
  },
  "language_info": {
   "codemirror_mode": {
    "name": "ipython",
    "version": 3
   },
   "file_extension": ".py",
   "mimetype": "text/x-python",
   "name": "python",
   "nbconvert_exporter": "python",
   "pygments_lexer": "ipython3",
   "version": "3.10.14"
  }
 },
 "nbformat": 4,
 "nbformat_minor": 2
}
